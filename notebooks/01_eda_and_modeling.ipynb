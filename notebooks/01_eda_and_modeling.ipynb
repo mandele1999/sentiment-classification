{
 "cells": [
  {
   "cell_type": "code",
   "execution_count": 46,
   "id": "7b054989",
   "metadata": {},
   "outputs": [],
   "source": [
    "# loading libraries\n",
    "import pandas as pd\n",
    "import numpy as np\n",
    "import re\n",
    "import string\n",
    "import nltk\n",
    "from nltk.corpus import stopwords\n",
    "\n",
    "nltk.download('stopwords', quiet=True)\n",
    "stop_words = set(stopwords.words('english'))\n",
    "from sklearn.feature_extraction.text import TfidfVectorizer\n",
    "from sklearn.model_selection import train_test_split\n",
    "from sklearn.linear_model import LogisticRegression\n",
    "from sklearn.naive_bayes import MultinomialNB\n",
    "from sklearn.ensemble import RandomForestClassifier\n",
    "from sklearn.metrics import classification_report, confusion_matrix\n",
    "\n",
    "import matplotlib.pyplot as plt\n",
    "%matplotlib inline\n",
    "plt.style.use('ggplot')\n",
    "import seaborn as sns\n",
    "\n",
    "sns.set(style=\"whitegrid\")\n",
    "import warnings\n",
    "warnings.filterwarnings(\"ignore\")\n"
   ]
  },
  {
   "cell_type": "code",
   "execution_count": 47,
   "id": "64ad03bc",
   "metadata": {},
   "outputs": [],
   "source": [
    "# Load all 3 files\n",
    "def load_data(file_path, source):\n",
    "    df = pd.read_csv(file_path, sep='\\t', header=None, names=['sentence', 'label'])\n",
    "    df['source'] = source\n",
    "    return df\n",
    "\n",
    "amazon_df = load_data('../data/amazon_cells_labelled.txt', 'amazon')\n",
    "yelp_df = load_data('../data/yelp_labelled.txt', 'yelp')\n",
    "imdb_df = load_data('../data/imdb_labelled.txt', 'imdb')\n",
    "\n",
    "# Combine into one DataFrame\n",
    "df = pd.concat([amazon_df, yelp_df, imdb_df]).reset_index(drop=True)"
   ]
  },
  {
   "cell_type": "code",
   "execution_count": 48,
   "id": "3d04eb23",
   "metadata": {},
   "outputs": [
    {
     "name": "stdout",
     "output_type": "stream",
     "text": [
      "Data shape: (2748, 3) \n",
      "\n"
     ]
    },
    {
     "data": {
      "application/vnd.microsoft.datawrangler.viewer.v0+json": {
       "columns": [
        {
         "name": "index",
         "rawType": "int64",
         "type": "integer"
        },
        {
         "name": "sentence",
         "rawType": "object",
         "type": "string"
        },
        {
         "name": "label",
         "rawType": "int64",
         "type": "integer"
        },
        {
         "name": "source",
         "rawType": "object",
         "type": "string"
        }
       ],
       "conversionMethod": "pd.DataFrame",
       "ref": "a0b4cfb5-c71d-441b-a0a0-1dc285f396fb",
       "rows": [
        [
         "2021",
         "If there was ever a movie that needed word-of-mouth to promote, this is it.  ",
         "1",
         "imdb"
        ],
        [
         "2252",
         "Wow, what a bad film.  ",
         "0",
         "imdb"
        ],
        [
         "1795",
         "So good I am going to have to review this place twice - once hereas a tribute to the place and once as a tribute to an event held here last night.",
         "1",
         "yelp"
        ],
        [
         "2521",
         "A Lassie movie which should have been \"put to sleep\".... FOREVER.  ",
         "0",
         "imdb"
        ],
        [
         "106",
         "That's a huge design flaw (unless I'm not using it correctly, which I don't think is the case).",
         "0",
         "amazon"
        ]
       ],
       "shape": {
        "columns": 3,
        "rows": 5
       }
      },
      "text/html": [
       "<div>\n",
       "<style scoped>\n",
       "    .dataframe tbody tr th:only-of-type {\n",
       "        vertical-align: middle;\n",
       "    }\n",
       "\n",
       "    .dataframe tbody tr th {\n",
       "        vertical-align: top;\n",
       "    }\n",
       "\n",
       "    .dataframe thead th {\n",
       "        text-align: right;\n",
       "    }\n",
       "</style>\n",
       "<table border=\"1\" class=\"dataframe\">\n",
       "  <thead>\n",
       "    <tr style=\"text-align: right;\">\n",
       "      <th></th>\n",
       "      <th>sentence</th>\n",
       "      <th>label</th>\n",
       "      <th>source</th>\n",
       "    </tr>\n",
       "  </thead>\n",
       "  <tbody>\n",
       "    <tr>\n",
       "      <th>2021</th>\n",
       "      <td>If there was ever a movie that needed word-of-...</td>\n",
       "      <td>1</td>\n",
       "      <td>imdb</td>\n",
       "    </tr>\n",
       "    <tr>\n",
       "      <th>2252</th>\n",
       "      <td>Wow, what a bad film.</td>\n",
       "      <td>0</td>\n",
       "      <td>imdb</td>\n",
       "    </tr>\n",
       "    <tr>\n",
       "      <th>1795</th>\n",
       "      <td>So good I am going to have to review this plac...</td>\n",
       "      <td>1</td>\n",
       "      <td>yelp</td>\n",
       "    </tr>\n",
       "    <tr>\n",
       "      <th>2521</th>\n",
       "      <td>A Lassie movie which should have been \"put to ...</td>\n",
       "      <td>0</td>\n",
       "      <td>imdb</td>\n",
       "    </tr>\n",
       "    <tr>\n",
       "      <th>106</th>\n",
       "      <td>That's a huge design flaw (unless I'm not usin...</td>\n",
       "      <td>0</td>\n",
       "      <td>amazon</td>\n",
       "    </tr>\n",
       "  </tbody>\n",
       "</table>\n",
       "</div>"
      ],
      "text/plain": [
       "                                               sentence  label  source\n",
       "2021  If there was ever a movie that needed word-of-...      1    imdb\n",
       "2252                            Wow, what a bad film.        0    imdb\n",
       "1795  So good I am going to have to review this plac...      1    yelp\n",
       "2521  A Lassie movie which should have been \"put to ...      0    imdb\n",
       "106   That's a huge design flaw (unless I'm not usin...      0  amazon"
      ]
     },
     "execution_count": 48,
     "metadata": {},
     "output_type": "execute_result"
    }
   ],
   "source": [
    "# View a sample of the data\n",
    "print(\"Data shape:\", df.shape, \"\\n\")\n",
    "df.sample(5)"
   ]
  },
  {
   "cell_type": "code",
   "execution_count": 49,
   "id": "5eadb0f1",
   "metadata": {},
   "outputs": [
    {
     "name": "stdout",
     "output_type": "stream",
     "text": [
      "Missing values:\n",
      " sentence    0\n",
      "label       0\n",
      "source      0\n",
      "dtype: int64\n",
      "Duplicate rows: 17\n"
     ]
    }
   ],
   "source": [
    "# Check for missing values\n",
    "print(\"Missing values:\\n\", df.isnull().sum())\n",
    "# Check for duplicates\n",
    "print(\"Duplicate rows:\", df.duplicated().sum())"
   ]
  },
  {
   "cell_type": "markdown",
   "id": "87c8bd0a",
   "metadata": {},
   "source": [
    "**1. Basic EDA**"
   ]
  },
  {
   "cell_type": "code",
   "execution_count": 50,
   "id": "1f919d69",
   "metadata": {},
   "outputs": [
    {
     "data": {
      "image/png": "[encoded data removed]",
      "text/plain": [
       "<Figure size 640x480 with 1 Axes>"
      ]
     },
     "metadata": {},
     "output_type": "display_data"
    }
   ],
   "source": [
    "# Class distribution of labels across sources\n",
    "sns.countplot(x='label', hue='source', data=df)\n",
    "plt.title('Class Distribution by Source')\n",
    "plt.xlabel('Label')\n",
    "plt.ylabel('Count')\n",
    "plt.legend(title='Source')\n",
    "plt.show()"
   ]
  },
  {
   "cell_type": "code",
   "execution_count": 51,
   "id": "bfe5c9b2",
   "metadata": {},
   "outputs": [
    {
     "data": {
      "image/png": "[encoded data removed]",
      "text/plain": [
       "<Figure size 1000x600 with 1 Axes>"
      ]
     },
     "metadata": {},
     "output_type": "display_data"
    }
   ],
   "source": [
    "# Sentence length distribution\n",
    "df['sentence_length'] = df['sentence'].apply(lambda x: len(x.split()))\n",
    "\n",
    "plt.figure(figsize=(10, 6))\n",
    "sns.histplot(df['sentence_length'], bins=30, kde=True)\n",
    "plt.title('Sentence Length Distribution')\n",
    "plt.xlabel('Number of Words')\n",
    "plt.ylabel('Frequency')\n",
    "plt.xlim(0, 70)\n",
    "plt.show()"
   ]
  },
  {
   "cell_type": "markdown",
   "id": "a639e138",
   "metadata": {},
   "source": [
    "**2. Text Preprocessing**\n",
    "\n",
    "I will clean the text to remove noise and prepare it for vectorization:"
   ]
  },
  {
   "cell_type": "code",
   "execution_count": 52,
   "id": "d537af59",
   "metadata": {},
   "outputs": [],
   "source": [
    "def clean_text(text):\n",
    "    # Lowercase\n",
    "    text = text.lower()\n",
    "    # Remove punctuation\n",
    "    text = text.translate(str.maketrans('', '', string.punctuation))\n",
    "    # Remove numbers and special characters\n",
    "    text = re.sub(r'[^a-z\\s]', '', text)\n",
    "    # Remove stopwords\n",
    "    tokens = text.split()\n",
    "    tokens = [word for word in tokens if word not in stop_words]\n",
    "    return ' '.join(tokens)\n",
    "\n",
    "# Apply cleaning\n",
    "df['cleaned_text'] = df['sentence'].apply(clean_text)"
   ]
  },
  {
   "cell_type": "code",
   "execution_count": 53,
   "id": "19a962ea",
   "metadata": {},
   "outputs": [
    {
     "data": {
      "application/vnd.microsoft.datawrangler.viewer.v0+json": {
       "columns": [
        {
         "name": "index",
         "rawType": "int64",
         "type": "integer"
        },
        {
         "name": "sentence",
         "rawType": "object",
         "type": "string"
        },
        {
         "name": "cleaned_text",
         "rawType": "object",
         "type": "string"
        }
       ],
       "conversionMethod": "pd.DataFrame",
       "ref": "125b3f57-25d4-492b-a174-f27c3598367c",
       "rows": [
        [
         "2174",
         "There was a few pathetic attempts to give the characters some depth, but it didn't really work into the rest of the plot.  ",
         "pathetic attempts give characters depth didnt really work rest plot"
        ],
        [
         "9",
         "What a waste of money and time!.",
         "waste money time"
        ],
        [
         "917",
         "Leopard Print is wonderfully wild!.",
         "leopard print wonderfully wild"
        ],
        [
         "740",
         "I would highly recommend this product.",
         "would highly recommend product"
        ],
        [
         "1899",
         "Overall, a great experience.",
         "overall great experience"
        ]
       ],
       "shape": {
        "columns": 2,
        "rows": 5
       }
      },
      "text/html": [
       "<div>\n",
       "<style scoped>\n",
       "    .dataframe tbody tr th:only-of-type {\n",
       "        vertical-align: middle;\n",
       "    }\n",
       "\n",
       "    .dataframe tbody tr th {\n",
       "        vertical-align: top;\n",
       "    }\n",
       "\n",
       "    .dataframe thead th {\n",
       "        text-align: right;\n",
       "    }\n",
       "</style>\n",
       "<table border=\"1\" class=\"dataframe\">\n",
       "  <thead>\n",
       "    <tr style=\"text-align: right;\">\n",
       "      <th></th>\n",
       "      <th>sentence</th>\n",
       "      <th>cleaned_text</th>\n",
       "    </tr>\n",
       "  </thead>\n",
       "  <tbody>\n",
       "    <tr>\n",
       "      <th>2174</th>\n",
       "      <td>There was a few pathetic attempts to give the ...</td>\n",
       "      <td>pathetic attempts give characters depth didnt ...</td>\n",
       "    </tr>\n",
       "    <tr>\n",
       "      <th>9</th>\n",
       "      <td>What a waste of money and time!.</td>\n",
       "      <td>waste money time</td>\n",
       "    </tr>\n",
       "    <tr>\n",
       "      <th>917</th>\n",
       "      <td>Leopard Print is wonderfully wild!.</td>\n",
       "      <td>leopard print wonderfully wild</td>\n",
       "    </tr>\n",
       "    <tr>\n",
       "      <th>740</th>\n",
       "      <td>I would highly recommend this product.</td>\n",
       "      <td>would highly recommend product</td>\n",
       "    </tr>\n",
       "    <tr>\n",
       "      <th>1899</th>\n",
       "      <td>Overall, a great experience.</td>\n",
       "      <td>overall great experience</td>\n",
       "    </tr>\n",
       "  </tbody>\n",
       "</table>\n",
       "</div>"
      ],
      "text/plain": [
       "                                               sentence  \\\n",
       "2174  There was a few pathetic attempts to give the ...   \n",
       "9                      What a waste of money and time!.   \n",
       "917                 Leopard Print is wonderfully wild!.   \n",
       "740              I would highly recommend this product.   \n",
       "1899                       Overall, a great experience.   \n",
       "\n",
       "                                           cleaned_text  \n",
       "2174  pathetic attempts give characters depth didnt ...  \n",
       "9                                      waste money time  \n",
       "917                      leopard print wonderfully wild  \n",
       "740                      would highly recommend product  \n",
       "1899                           overall great experience  "
      ]
     },
     "execution_count": 53,
     "metadata": {},
     "output_type": "execute_result"
    }
   ],
   "source": [
    "# Inspect cleaned text\n",
    "df[['sentence', 'cleaned_text']].sample(5)"
   ]
  },
  {
   "cell_type": "code",
   "execution_count": 54,
   "id": "96fea6a7",
   "metadata": {},
   "outputs": [
    {
     "data": {
      "application/vnd.microsoft.datawrangler.viewer.v0+json": {
       "columns": [
        {
         "name": "index",
         "rawType": "int64",
         "type": "integer"
        },
        {
         "name": "sentence",
         "rawType": "object",
         "type": "string"
        },
        {
         "name": "label",
         "rawType": "int64",
         "type": "integer"
        },
        {
         "name": "source",
         "rawType": "object",
         "type": "string"
        },
        {
         "name": "sentence_length",
         "rawType": "int64",
         "type": "integer"
        },
        {
         "name": "cleaned_text",
         "rawType": "object",
         "type": "string"
        }
       ],
       "conversionMethod": "pd.DataFrame",
       "ref": "e3209323-dbed-4a3c-9882-c8b60e05d0a3",
       "rows": [
        [
         "839",
         "I have bought this Nokia cell phone a few weeks ago and it was a nightmare.",
         "0",
         "amazon",
         "16",
         "bought nokia cell phone weeks ago nightmare"
        ]
       ],
       "shape": {
        "columns": 5,
        "rows": 1
       }
      },
      "text/html": [
       "<div>\n",
       "<style scoped>\n",
       "    .dataframe tbody tr th:only-of-type {\n",
       "        vertical-align: middle;\n",
       "    }\n",
       "\n",
       "    .dataframe tbody tr th {\n",
       "        vertical-align: top;\n",
       "    }\n",
       "\n",
       "    .dataframe thead th {\n",
       "        text-align: right;\n",
       "    }\n",
       "</style>\n",
       "<table border=\"1\" class=\"dataframe\">\n",
       "  <thead>\n",
       "    <tr style=\"text-align: right;\">\n",
       "      <th></th>\n",
       "      <th>sentence</th>\n",
       "      <th>label</th>\n",
       "      <th>source</th>\n",
       "      <th>sentence_length</th>\n",
       "      <th>cleaned_text</th>\n",
       "    </tr>\n",
       "  </thead>\n",
       "  <tbody>\n",
       "    <tr>\n",
       "      <th>839</th>\n",
       "      <td>I have bought this Nokia cell phone a few week...</td>\n",
       "      <td>0</td>\n",
       "      <td>amazon</td>\n",
       "      <td>16</td>\n",
       "      <td>bought nokia cell phone weeks ago nightmare</td>\n",
       "    </tr>\n",
       "  </tbody>\n",
       "</table>\n",
       "</div>"
      ],
      "text/plain": [
       "                                              sentence  label  source  \\\n",
       "839  I have bought this Nokia cell phone a few week...      0  amazon   \n",
       "\n",
       "     sentence_length                                 cleaned_text  \n",
       "839               16  bought nokia cell phone weeks ago nightmare  "
      ]
     },
     "execution_count": 54,
     "metadata": {},
     "output_type": "execute_result"
    }
   ],
   "source": [
    "df.sample()"
   ]
  },
  {
   "cell_type": "markdown",
   "id": "6308d698",
   "metadata": {},
   "source": [
    "**3. TF-IDF Vectorization**\n",
    "\n",
    "I'll convert the cleaned text into numerical features with `TfidfVectorizer`"
   ]
  },
  {
   "cell_type": "code",
   "execution_count": 55,
   "id": "14254b0f",
   "metadata": {},
   "outputs": [],
   "source": [
    "# Create the vectorizer\n",
    "vectorizer = TfidfVectorizer(max_features=5000, ngram_range=(1, 2))  # You can tweak max_features and ngrams\n",
    "\n",
    "# Fit and transform the cleaned text\n",
    "X = vectorizer.fit_transform(df['cleaned_text'])\n",
    "\n",
    "# Target variable\n",
    "y = df['label']"
   ]
  },
  {
   "cell_type": "markdown",
   "id": "393ffda7",
   "metadata": {},
   "source": [
    "**4. Train/Test Split and Model Training**\n",
    "\n",
    "I'll start with a few classic classifiers"
   ]
  },
  {
   "cell_type": "code",
   "execution_count": 56,
   "id": "4456e6eb",
   "metadata": {},
   "outputs": [],
   "source": [
    "# Train/test split\n",
    "X_train, X_test, y_train, y_test = train_test_split(X, y, test_size=0.2, random_state=42)"
   ]
  },
  {
   "cell_type": "code",
   "execution_count": 57,
   "id": "acb303a1",
   "metadata": {},
   "outputs": [
    {
     "name": "stdout",
     "output_type": "stream",
     "text": [
      "\n",
      "Logistic Regression\n",
      "              precision    recall  f1-score   support\n",
      "\n",
      "           0       0.84      0.85      0.84       286\n",
      "           1       0.84      0.82      0.83       264\n",
      "\n",
      "    accuracy                           0.84       550\n",
      "   macro avg       0.84      0.84      0.84       550\n",
      "weighted avg       0.84      0.84      0.84       550\n",
      "\n",
      "Confusion Matrix:\n",
      " [[244  42]\n",
      " [ 48 216]]\n",
      "\n",
      "Multinomial Naive Bayes\n",
      "              precision    recall  f1-score   support\n",
      "\n",
      "           0       0.86      0.80      0.83       286\n",
      "           1       0.80      0.86      0.83       264\n",
      "\n",
      "    accuracy                           0.83       550\n",
      "   macro avg       0.83      0.83      0.83       550\n",
      "weighted avg       0.83      0.83      0.83       550\n",
      "\n",
      "Confusion Matrix:\n",
      " [[229  57]\n",
      " [ 37 227]]\n",
      "\n",
      "Random Forest\n",
      "              precision    recall  f1-score   support\n",
      "\n",
      "           0       0.79      0.86      0.82       286\n",
      "           1       0.83      0.75      0.79       264\n",
      "\n",
      "    accuracy                           0.81       550\n",
      "   macro avg       0.81      0.81      0.81       550\n",
      "weighted avg       0.81      0.81      0.81       550\n",
      "\n",
      "Confusion Matrix:\n",
      " [[246  40]\n",
      " [ 65 199]]\n"
     ]
    }
   ],
   "source": [
    "# Model dictionary\n",
    "models = {\n",
    "    \"Logistic Regression\": LogisticRegression(max_iter=1000),\n",
    "    \"Multinomial Naive Bayes\": MultinomialNB(),\n",
    "    \"Random Forest\": RandomForestClassifier(n_estimators=100, random_state=42)\n",
    "}\n",
    "\n",
    "# Train and evaluate each model\n",
    "for name, model in models.items():\n",
    "    print(f\"\\n{name}\")\n",
    "    model.fit(X_train, y_train)\n",
    "    y_pred = model.predict(X_test)\n",
    "    print(classification_report(y_test, y_pred))\n",
    "    print(\"Confusion Matrix:\\n\", confusion_matrix(y_test, y_pred))"
   ]
  }
 ],
 "metadata": {
  "kernelspec": {
   "display_name": "learn-env",
   "language": "python",
   "name": "python3"
  },
  "language_info": {
   "codemirror_mode": {
    "name": "ipython",
    "version": 3
   },
   "file_extension": ".py",
   "mimetype": "text/x-python",
   "name": "python",
   "nbconvert_exporter": "python",
   "pygments_lexer": "ipython3",
   "version": "3.8.5"
  }
 },
 "nbformat": 4,
 "nbformat_minor": 5
}
